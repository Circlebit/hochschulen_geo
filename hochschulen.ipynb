{
 "cells": [
  {
   "cell_type": "markdown",
   "metadata": {},
   "source": [
    "# Geographische Koordinaten deutscher Hochschulen\n",
    "\n",
    "In diesem Beispiel werden einem Datensatz mit Adressen geographische Koordinaten hinzugefügt.\n",
    "\n",
    "Datenquellen:\n",
    "\n",
    " - Liste der Hochschulen in Deutschland vom [Hochschulkompass](https://www.hochschulkompass.de/hochschulen/downloads.html)\n",
    " - Geodaten vom Kartendienst [Bing maps](https://www.bingmapsportal.com/)\n",
    "\n",
    "\n",
    "Die Rechte an den Daten verbleiben bei den Urhebern!"
   ]
  },
  {
   "cell_type": "code",
   "execution_count": 1,
   "metadata": {},
   "outputs": [
    {
     "name": "stderr",
     "output_type": "stream",
     "text": [
      "--2022-08-17 16:42:27--  https://www.hs-kompass.de/kompass/xml/download/hs_liste.txt\n",
      "Resolving www.hs-kompass.de (www.hs-kompass.de)... 85.214.208.248\n",
      "Connecting to www.hs-kompass.de (www.hs-kompass.de)|85.214.208.248|:443... connected.\n",
      "HTTP request sent, awaiting response... 200 200\n",
      "Length: 99170 (97K) [text/plain]\n",
      "Saving to: 'hs_liste.txt.1'\n",
      "\n",
      "     0K .......... .......... .......... .......... .......... 51%  880K 0s\n",
      "    50K .......... .......... .......... .......... ......    100% 2,35M=0,08s\n",
      "\n",
      "2022-08-17 16:42:27 (1,24 MB/s) - 'hs_liste.txt.1' saved [99170/99170]\n",
      "\n"
     ]
    }
   ],
   "source": [
    "# Liste der Hochschulen herunterladen\n",
    "\n",
    "!wget https://www.hs-kompass.de/kompass/xml/download/hs_liste.txt"
   ]
  },
  {
   "cell_type": "code",
   "execution_count": 2,
   "metadata": {},
   "outputs": [],
   "source": [
    "import pandas as pd  # zur Arbeit mit Dataframes\n",
    "\n",
    "# Textdatei in Dataframe einlesen\n",
    "\n",
    "df = pd.read_csv(\n",
    "  'hs_liste.txt',     # Dateiname\n",
    "  sep = \"\\t\",         # Spalten sind durch Tabulator getrennt\n",
    "  encoding=\"latin_1\", # Kodierung \"Western Europe\"\n",
    "  dtype={\"Postleitzahl (Hausanschrift)\": str, \"Postleitzahl (Postanschrift)\": str} # PLZ als String, damit führende Nullen nicht verschwinden\n",
    "  \n",
    ")"
   ]
  },
  {
   "cell_type": "code",
   "execution_count": 3,
   "metadata": {},
   "outputs": [],
   "source": [
    "# Whitespace und Umlaute aus Spaltennamen entfernen\n",
    "# (optional)\n",
    "\n",
    "df.rename(columns = {\n",
    "    'Trägerschaft':'Traegerschaft',\n",
    "    'Anzahl Studierende':'Anzahl_Studierende',\n",
    "    'Gründungsjahr':'Gruendungsjahr',\n",
    "    'Postleitzahl (Hausanschrift)':'PLZ',\n",
    "    'Ort (Hausanschrift)':'Ort',\n",
    "    'Straße':'Adresse',\n",
    "    'Postleitzahl (Postanschrift)':'PLZ_Postanschrift',\n",
    "    'Ort (Postanschrift)':'PLZ_Postanschrift',\n",
    "    'Home Page':'Web',\n",
    "    'Mitglied HRK':'Mitglied_HRK'}, inplace = True)"
   ]
  },
  {
   "cell_type": "markdown",
   "metadata": {},
   "source": [
    "Um Daten aus der Bing Maps Api abzurufen wird ein API-Key benötigt.\n",
    "Eine Anleitung zum erstellen eines Keys gibt es [hier](https://docs.microsoft.com/en-us/bingmaps/getting-started/bing-maps-dev-center-help/getting-a-bing-maps-key\n",
    ")."
   ]
  },
  {
   "cell_type": "code",
   "execution_count": 4,
   "metadata": {},
   "outputs": [],
   "source": [
    "# Bing Maps Api Key hier einfügen!\n",
    "\n",
    "apiKey = \"meinApiKey\";"
   ]
  },
  {
   "cell_type": "code",
   "execution_count": 5,
   "metadata": {},
   "outputs": [],
   "source": [
    "from time import sleep\n",
    "from urllib.parse import quote # zum enkodieren der Adressen\n",
    "import requests # zum Abruf der API\n",
    "\n",
    "def request_coords(plz, address):\n",
    "    url = f\"http://dev.virtualearth.net/REST/v1/Locations/DE/{plz}/{quote(address.strip(' .'))}?key={apiKey}\"\n",
    "    for retry in range(5):\n",
    "        try:\n",
    "            response = requests.get(url, timeout=10)\n",
    "            if response.status_code == 200:\n",
    "                break\n",
    "            if response.status_code == 404:\n",
    "                print(f\"404! ({plz}, {address})\")\n",
    "                sleep(2)\n",
    "        except:\n",
    "            print(f\"Retry! ({plz}, {address})\")\n",
    "                \n",
    "    try:\n",
    "        coords = response.json()[\"resourceSets\"][0][\"resources\"][0][\"point\"][\"coordinates\"]\n",
    "    except:\n",
    "        print(f\"Couldn't get coords for {plz}, {address}. I added a [0,0] instead.\")\n",
    "        coords = [0, 0] \n",
    "\n",
    "    return coords\n"
   ]
  },
  {
   "cell_type": "code",
   "execution_count": 6,
   "metadata": {},
   "outputs": [],
   "source": [
    "lat = []\n",
    "long = []\n",
    "\n",
    "for i, row in df.iterrows():\n",
    "    coords = request_coords(row[\"PLZ\"], row[\"Adresse\"])\n",
    "    lat.append(coords[0])\n",
    "    long.append(coords[1])\n",
    "\n",
    "df[\"lat\"] = lat\n",
    "df[\"long\"] = long"
   ]
  },
  {
   "cell_type": "code",
   "execution_count": 9,
   "metadata": {},
   "outputs": [
    {
     "data": {
      "text/html": [
       "<div>\n",
       "<style scoped>\n",
       "    .dataframe tbody tr th:only-of-type {\n",
       "        vertical-align: middle;\n",
       "    }\n",
       "\n",
       "    .dataframe tbody tr th {\n",
       "        vertical-align: top;\n",
       "    }\n",
       "\n",
       "    .dataframe thead th {\n",
       "        text-align: right;\n",
       "    }\n",
       "</style>\n",
       "<table border=\"1\" class=\"dataframe\">\n",
       "  <thead>\n",
       "    <tr style=\"text-align: right;\">\n",
       "      <th></th>\n",
       "      <th>Hs-Nr.</th>\n",
       "      <th>Hochschulkurzname</th>\n",
       "      <th>Hochschulname</th>\n",
       "      <th>Hochschultyp</th>\n",
       "      <th>Traegerschaft</th>\n",
       "      <th>Bundesland</th>\n",
       "      <th>Anzahl_Studierende</th>\n",
       "      <th>Gruendungsjahr</th>\n",
       "      <th>Promotionsrecht</th>\n",
       "      <th>Habilitationsrecht</th>\n",
       "      <th>...</th>\n",
       "      <th>Postfach</th>\n",
       "      <th>PLZ_Postanschrift</th>\n",
       "      <th>PLZ_Postanschrift</th>\n",
       "      <th>Telefonvorwahl</th>\n",
       "      <th>Telefon</th>\n",
       "      <th>Fax</th>\n",
       "      <th>Web</th>\n",
       "      <th>Mitglied_HRK</th>\n",
       "      <th>lat</th>\n",
       "      <th>long</th>\n",
       "    </tr>\n",
       "  </thead>\n",
       "  <tbody>\n",
       "    <tr>\n",
       "      <th>0</th>\n",
       "      <td>2</td>\n",
       "      <td>Aachen FH</td>\n",
       "      <td>Fachhochschule Aachen</td>\n",
       "      <td>Fachhochschulen / HAW</td>\n",
       "      <td>öffentlich-rechtlich</td>\n",
       "      <td>Nordrhein-Westfalen</td>\n",
       "      <td>14792.0</td>\n",
       "      <td>1971.0</td>\n",
       "      <td>Nein</td>\n",
       "      <td>Nein</td>\n",
       "      <td>...</td>\n",
       "      <td>100560</td>\n",
       "      <td>52005</td>\n",
       "      <td>Aachen</td>\n",
       "      <td>241</td>\n",
       "      <td>6009-0</td>\n",
       "      <td>6009-51090</td>\n",
       "      <td>http://www.fh-aachen.de</td>\n",
       "      <td>1</td>\n",
       "      <td>50.755605</td>\n",
       "      <td>6.095995</td>\n",
       "    </tr>\n",
       "    <tr>\n",
       "      <th>1</th>\n",
       "      <td>1</td>\n",
       "      <td>Aachen TH</td>\n",
       "      <td>Rheinisch-Westfälische Technische Hochschule A...</td>\n",
       "      <td>Universitäten</td>\n",
       "      <td>öffentlich-rechtlich</td>\n",
       "      <td>Nordrhein-Westfalen</td>\n",
       "      <td>47511.0</td>\n",
       "      <td>1870.0</td>\n",
       "      <td>Ja</td>\n",
       "      <td>Ja</td>\n",
       "      <td>...</td>\n",
       "      <td>NaN</td>\n",
       "      <td>52056</td>\n",
       "      <td>Aachen</td>\n",
       "      <td>241</td>\n",
       "      <td>80-1</td>\n",
       "      <td>80-92312</td>\n",
       "      <td>https://www.rwth-aachen.de</td>\n",
       "      <td>1</td>\n",
       "      <td>50.777638</td>\n",
       "      <td>6.077977</td>\n",
       "    </tr>\n",
       "    <tr>\n",
       "      <th>2</th>\n",
       "      <td>3</td>\n",
       "      <td>Aalen H</td>\n",
       "      <td>Hochschule Aalen - Technik und Wirtschaft</td>\n",
       "      <td>Fachhochschulen / HAW</td>\n",
       "      <td>öffentlich-rechtlich</td>\n",
       "      <td>Baden-Württemberg</td>\n",
       "      <td>5750.0</td>\n",
       "      <td>1962.0</td>\n",
       "      <td>Nein</td>\n",
       "      <td>Nein</td>\n",
       "      <td>...</td>\n",
       "      <td>1728</td>\n",
       "      <td>73428</td>\n",
       "      <td>Aalen</td>\n",
       "      <td>7361</td>\n",
       "      <td>576-0</td>\n",
       "      <td>576-2250</td>\n",
       "      <td>http://www.hs-aalen.de</td>\n",
       "      <td>1</td>\n",
       "      <td>48.838147</td>\n",
       "      <td>10.073161</td>\n",
       "    </tr>\n",
       "  </tbody>\n",
       "</table>\n",
       "<p>3 rows × 23 columns</p>\n",
       "</div>"
      ],
      "text/plain": [
       "   Hs-Nr. Hochschulkurzname  \\\n",
       "0       2         Aachen FH   \n",
       "1       1         Aachen TH   \n",
       "2       3           Aalen H   \n",
       "\n",
       "                                       Hochschulname           Hochschultyp  \\\n",
       "0                              Fachhochschule Aachen  Fachhochschulen / HAW   \n",
       "1  Rheinisch-Westfälische Technische Hochschule A...          Universitäten   \n",
       "2          Hochschule Aalen - Technik und Wirtschaft  Fachhochschulen / HAW   \n",
       "\n",
       "          Traegerschaft           Bundesland  Anzahl_Studierende  \\\n",
       "0  öffentlich-rechtlich  Nordrhein-Westfalen             14792.0   \n",
       "1  öffentlich-rechtlich  Nordrhein-Westfalen             47511.0   \n",
       "2  öffentlich-rechtlich    Baden-Württemberg              5750.0   \n",
       "\n",
       "   Gruendungsjahr Promotionsrecht Habilitationsrecht  ... Postfach  \\\n",
       "0          1971.0            Nein               Nein  ...   100560   \n",
       "1          1870.0              Ja                 Ja  ...      NaN   \n",
       "2          1962.0            Nein               Nein  ...     1728   \n",
       "\n",
       "  PLZ_Postanschrift PLZ_Postanschrift Telefonvorwahl Telefon         Fax  \\\n",
       "0             52005            Aachen            241  6009-0  6009-51090   \n",
       "1             52056            Aachen            241    80-1    80-92312   \n",
       "2             73428             Aalen           7361   576-0    576-2250   \n",
       "\n",
       "                          Web Mitglied_HRK        lat       long  \n",
       "0     http://www.fh-aachen.de            1  50.755605   6.095995  \n",
       "1  https://www.rwth-aachen.de            1  50.777638   6.077977  \n",
       "2      http://www.hs-aalen.de            1  48.838147  10.073161  \n",
       "\n",
       "[3 rows x 23 columns]"
      ]
     },
     "execution_count": 9,
     "metadata": {},
     "output_type": "execute_result"
    }
   ],
   "source": [
    "df.head(3)"
   ]
  },
  {
   "cell_type": "code",
   "execution_count": 8,
   "metadata": {},
   "outputs": [],
   "source": [
    "df.to_csv(\"hochschulen.csv\", index=False)"
   ]
  }
 ],
 "metadata": {
  "kernelspec": {
   "display_name": "Python 3.7.9 ('dataViz')",
   "language": "python",
   "name": "python3"
  },
  "language_info": {
   "codemirror_mode": {
    "name": "ipython",
    "version": 3
   },
   "file_extension": ".py",
   "mimetype": "text/x-python",
   "name": "python",
   "nbconvert_exporter": "python",
   "pygments_lexer": "ipython3",
   "version": "3.7.9"
  },
  "orig_nbformat": 4,
  "vscode": {
   "interpreter": {
    "hash": "f928e8ff78da4ad3f84cfc0293670af8e486ea27cc3f13a5fcb83b88d5e1a001"
   }
  }
 },
 "nbformat": 4,
 "nbformat_minor": 2
}
